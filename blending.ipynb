{
 "cells": [
  {
   "cell_type": "code",
   "execution_count": 1,
   "metadata": {
    "_cell_guid": "b1076dfc-b9ad-4769-8c92-a6c4dae69d19",
    "_uuid": "8f2839f25d086af736a60e9eeb907d3b93b6e0e5"
   },
   "outputs": [
    {
     "name": "stdout",
     "output_type": "stream",
     "text": [
      "['test.csv', 'train.csv', 'sample_submission.csv']\n"
     ]
    }
   ],
   "source": [
    "# This Python 3 environment comes with many helpful analytics libraries installed\n",
    "# It is defined by the kaggle/python docker image: https://github.com/kaggle/docker-python\n",
    "# For example, here's several helpful packages to load in \n",
    "\n",
    "import numpy as np # linear algebra\n",
    "import pandas as pd # data processing, CSV file I/O (e.g. pd.read_csv)\n",
    "\n",
    "# Input data files are available in the \"../input/\" directory.\n",
    "# For example, running this (by clicking run or pressing Shift+Enter) will list the files in the input directory\n",
    "\n",
    "import os\n",
    "print(os.listdir(\"data\"))\n",
    "\n",
    "# Any results you write to the current directory are saved as output."
   ]
  },
  {
   "cell_type": "code",
   "execution_count": 2,
   "metadata": {
    "_cell_guid": "79c7e3d0-c299-4dcb-8224-4455121ee9b0",
    "_uuid": "d629ff2d2480ee46fbb7e2d37f6b5fab8052498a"
   },
   "outputs": [],
   "source": [
    "DATA_DIR = ''\n",
    "bag_log_file = os.path.join(DATA_DIR, 'submission_bag_log_ohe_no_out_kbest.csv')\n",
    "nn_file = os.path.join(DATA_DIR, 'submission_nn_3x32_all_sc_no_trans.csv')\n",
    "cat_file = os.path.join(DATA_DIR, 'submission_cat_modified.csv')\n",
    "\n",
    "bag_log = pd.read_csv(bag_log_file)\n",
    "nn = pd.read_csv(nn_file)\n",
    "cat = pd.read_csv(cat_file)"
   ]
  },
  {
   "cell_type": "code",
   "execution_count": 3,
   "metadata": {
    "_uuid": "d9efb491a720319bd4a3806a9a7f45a81d335771"
   },
   "outputs": [],
   "source": [
    "final = bag_log['y'].values * 0.4 + nn['y'].values * 0.3 + cat['y'].values * 0.3\n",
    "final = pd.DataFrame(final, index=bag_log['sample_id'], columns=['y'])\n",
    "final\n",
    "\n",
    "final.to_csv('submission_blend_1.csv')"
   ]
  },
  {
   "cell_type": "code",
   "execution_count": 3,
   "metadata": {
    "_uuid": "e372e471842d133dfb59faa3169cb5650a718993"
   },
   "outputs": [],
   "source": [
    "DATA_DIR = ''\n",
    "bag_log_file = os.path.join(DATA_DIR, 'submission_bag_log_ohe_no_out_kbest.csv')\n",
    "nn_file = os.path.join(DATA_DIR, 'submission_nn_3x32_all_sc_no_trans.csv')\n",
    "cat_file = os.path.join(DATA_DIR, 'submission_cat_modified_2.csv')\n",
    "\n",
    "bag_log = pd.read_csv(bag_log_file)\n",
    "nn = pd.read_csv(nn_file)\n",
    "cat = pd.read_csv(cat_file)"
   ]
  },
  {
   "cell_type": "code",
   "execution_count": 4,
   "metadata": {},
   "outputs": [],
   "source": [
    "final = bag_log['y'].values * 0.4 + nn['y'].values * 0.3 + cat['y'].values * 0.3\n",
    "final = pd.DataFrame(final, index=bag_log['sample_id'], columns=['y'])\n",
    "final\n",
    "\n",
    "final.to_csv('submission_blend_2.csv')"
   ]
  },
  {
   "cell_type": "code",
   "execution_count": 5,
   "metadata": {},
   "outputs": [
    {
     "name": "stdout",
     "output_type": "stream",
     "text": [
      "100%|██████████████████████████████████████| 5.90k/5.90k [00:00<00:00, 53.5kB/s]\n",
      "Successfully submitted to Skill task"
     ]
    }
   ],
   "source": [
    "\n",
    "# \n",
    "!kaggle competitions submit -c skill-task -f submission_blend_2.csv -m \"Блендинг с cat_modified_2\"\n"
   ]
  },
  {
   "cell_type": "code",
   "execution_count": null,
   "metadata": {},
   "outputs": [],
   "source": []
  }
 ],
 "metadata": {
  "kernelspec": {
   "display_name": "Python 3",
   "language": "python",
   "name": "python3"
  },
  "language_info": {
   "codemirror_mode": {
    "name": "ipython",
    "version": 3
   },
   "file_extension": ".py",
   "mimetype": "text/x-python",
   "name": "python",
   "nbconvert_exporter": "python",
   "pygments_lexer": "ipython3",
   "version": "3.6.7"
  }
 },
 "nbformat": 4,
 "nbformat_minor": 1
}
